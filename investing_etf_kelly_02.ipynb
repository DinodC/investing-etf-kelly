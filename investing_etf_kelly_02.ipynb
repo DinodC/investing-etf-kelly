{
 "cells": [
  {
   "cell_type": "markdown",
   "metadata": {},
   "source": [
    "# Investing On ETFs Using The Kelly Formula Part 2"
   ]
  },
  {
   "cell_type": "markdown",
   "metadata": {},
   "source": [
    "## How To Allocate Capital Using The Kelly Formula"
   ]
  },
  {
   "cell_type": "markdown",
   "metadata": {},
   "source": [
    "## Introduction\n",
    "Suppose that we identified a trading strategy which we think could be profitable.\n",
    "We implemented and backtested the trading strategy using Python programming language.\n",
    "The results of the backtest is promising, the strategy's Sharpe ratio is greater than 3 with a limited maximum drawdown.\n",
    "Suppose that we identified more trading strategies which are as promising as the first one.\n",
    "How do we allocate our capital to these strategies?\n",
    "\n",
    "..."
   ]
  },
  {
   "cell_type": "markdown",
   "metadata": {},
   "source": [
    "## The Kelly Formula\n",
    "...\n",
    "\n",
    "\n",
    "## Kelly Formula In Financial Markets\n",
    "In this section, we follow Thorp's [paper](https://www.researchgate.net/publication/247922818_The_Kelly_Criterion_in_Blackjack_Sports_Betting_and_the_Stock_Market) illustrating the application of Kelly criterion on optimal portfolio allocation.   \n",
    "\n",
    "### Case 1: Single Security\n",
    "The objective is to maximize the growth rate $g$ of a portfolio composed of a single security\n",
    "$$ \\max_{f} g(f), $$\n",
    "\n",
    "where growth rate $g$ is\n",
    "$$ g(f) = r_{Risk-free} + f m - \\frac{1}{2} f^2 s^2, $$\n",
    "\n",
    "and $f$ is the fraction of capital we allocate to the security.\n",
    "\n",
    "Assuming that the security follows a Normal distribution with mean $m$ and variance $s^2$, the optimal allocation $f^*$ is \n",
    "$$ f^* = \\frac{m}{s^2}, $$\n",
    "\n",
    "and the optimum growth rate is \n",
    "$$ g(f^*) = r_{Risk-free} + \\frac{1}{2} f^{*2} s^2. $$\n",
    "\n",
    "### Case 2: Multiple Securities\n",
    "We extend the previous case to maximize the growth rate $g$ of a portfolio composed of multiple securities\n",
    "$$ \\max_{F} g(F), $$\n",
    "\n",
    "where growth rate $g$ is\n",
    "$$ g(F) = r_{Risk-free} + F^T M - \\frac{1}{2} F^T C F, $$\n",
    "\n",
    "and $F$ is a vector containing fractions of capital we allocate to each security\n",
    "$$ F = \\left( f_1, f_2, ..., f_n \\right). $$\n",
    "\n",
    "Assuming that each security $i$ follows a Normal distribution, $M$ is the vector containing average of excess returns of each security\n",
    "$$ M = \\left( m_1, m_2,..., m_n \\right), $$\n",
    "\n",
    "and $C$ is the covariance matrix of the returns between securities $i$ and $j$\n",
    "$$\n",
    "\\begin{pmatrix} \n",
    "c_{11} & c_{12} & ... & c_{1n} \\\\ \n",
    "c_{21} & c_{22} & ... & c_{2n} \\\\ \n",
    "\\vdots & \\vdots & \\ddots & \\vdots \\\\ \n",
    "c_{n1} & c_{n2} & ... & c_{nn} \\\\ \n",
    "\\end{pmatrix}\n",
    "$$\n",
    "\n",
    "the optimal allocation $F^*$ is\n",
    "$$ F^* = C^{-1} M, $$\n",
    "\n",
    "and the optimum growth rate is\n",
    "$$ g(F^*) = r_{Risk-free} + \\frac{1}{2} F^T C F. $$"
   ]
  },
  {
   "cell_type": "markdown",
   "metadata": {},
   "source": [
    "Import packages"
   ]
  },
  {
   "cell_type": "code",
   "execution_count": 1,
   "metadata": {},
   "outputs": [],
   "source": [
    "import numpy as np\n",
    "import pandas as pd\n",
    "from pandas import Series, DataFrame\n",
    "import pickle\n",
    "import matplotlib.pyplot as plt\n",
    "%matplotlib inline"
   ]
  },
  {
   "cell_type": "markdown",
   "metadata": {},
   "source": [
    "Set group keys"
   ]
  },
  {
   "cell_type": "code",
   "execution_count": 2,
   "metadata": {},
   "outputs": [],
   "source": [
    "groups = ['us bonds',\n",
    "          'us stocks',\n",
    "          'intl bonds',\n",
    "          'intl stocks',\n",
    "          'sectors']"
   ]
  },
  {
   "cell_type": "markdown",
   "metadata": {},
   "source": [
    "Set input input files"
   ]
  },
  {
   "cell_type": "code",
   "execution_count": 3,
   "metadata": {},
   "outputs": [],
   "source": [
    "input = {'us bonds': 'etf_us_bonds.pickle', \n",
    "         'us stocks': 'etf_us_stocks.pickle',\n",
    "         'intl bonds': 'etf_intl_bonds.pickle',\n",
    "         'intl stocks': 'etf_intl_stocks.pickle',\n",
    "         'sectors': 'etf_sectors.pickle'}"
   ]
  },
  {
   "cell_type": "markdown",
   "metadata": {},
   "source": [
    "Create output dictionary"
   ]
  },
  {
   "cell_type": "code",
   "execution_count": 4,
   "metadata": {},
   "outputs": [],
   "source": [
    "output = {'us bonds': {},\n",
    "          'us stocks': {},\n",
    "          'intl bonds': {},\n",
    "          'intl stocks': {},\n",
    "          'sectors': {}}"
   ]
  },
  {
   "cell_type": "markdown",
   "metadata": {},
   "source": [
    "Set market parameters"
   ]
  },
  {
   "cell_type": "code",
   "execution_count": 5,
   "metadata": {},
   "outputs": [],
   "source": [
    "risk_free = 0.025\n",
    "max_leverage = 4.00"
   ]
  },
  {
   "cell_type": "markdown",
   "metadata": {},
   "source": [
    "Calculate Kelly leverage of each ETF group"
   ]
  },
  {
   "cell_type": "code",
   "execution_count": 6,
   "metadata": {},
   "outputs": [],
   "source": [
    "for i in groups:    \n",
    "\n",
    "    # Load file\n",
    "    with open(input[i], 'rb') as f:\n",
    "        close = pickle.load(f)\n",
    "    f.close()\n",
    "    \n",
    "    # Daily returns for the past 6 months\n",
    "    returns = close[-120:].pct_change()\n",
    "    \n",
    "    # Excess daily returns\n",
    "    excess_returns = returns - risk_free / 250\n",
    "    \n",
    "    # Mean excess daily returns annualized\n",
    "    M = excess_returns.mean() * 250\n",
    "    \n",
    "    # Covariance of daily returns\n",
    "    C = returns.cov() * 250\n",
    "    \n",
    "    # Kelly leverage\n",
    "    F = np.matmul(np.linalg.inv(C), M)\n",
    "    \n",
    "    # Adjust leverage\n",
    "    adj_leverage = max_leverage / np.sum(np.abs(F))\n",
    "    F = adj_leverage * F\n",
    "    \n",
    "    # Growth rate at full Kelly\n",
    "    g = risk_free + np.matmul(np.transpose(F), M) - 0.5 * np.matmul(np.matmul(np.transpose(F), C), F)\n",
    "\n",
    "    # Growth at half Kelly\n",
    "    g_half = risk_free + np.matmul(np.transpose(0.5 * F), M) - 0.5 * np.matmul(np.matmul(np.transpose(0.5 * F), C), 0.5 * F)\n",
    "    \n",
    "    # Sharpe ratio\n",
    "    sharpe = np.sqrt(np.matmul(np.matmul(np.transpose(F), C), F))\n",
    "    \n",
    "    # Sharpe at half Kelly\n",
    "    sharpe_half = np.sqrt(np.matmul(np.matmul(np.transpose(0.5 * F), C), 0.5 * F))\n",
    "    \n",
    "    # Update output\n",
    "    output[i]['tickers'] = list(close.columns)\n",
    "    output[i]['kelly'] = list(F)\n",
    "    output[i]['kelly half'] = list(0.5 * F)\n",
    "    output[i]['growth'] = g\n",
    "    output[i]['growth half'] = g_half\n",
    "    output[i]['sharpe'] = sharpe\n",
    "    output[i]['sharpe half'] = sharpe_half"
   ]
  },
  {
   "cell_type": "markdown",
   "metadata": {},
   "source": [
    "### Vanguard US Bonds ETFs"
   ]
  },
  {
   "cell_type": "markdown",
   "metadata": {},
   "source": [
    "The Kelly leverage for US Bonds ETFs are"
   ]
  },
  {
   "cell_type": "code",
   "execution_count": 7,
   "metadata": {},
   "outputs": [
    {
     "data": {
      "text/html": [
       "<div>\n",
       "<style scoped>\n",
       "    .dataframe tbody tr th:only-of-type {\n",
       "        vertical-align: middle;\n",
       "    }\n",
       "\n",
       "    .dataframe tbody tr th {\n",
       "        vertical-align: top;\n",
       "    }\n",
       "\n",
       "    .dataframe thead th {\n",
       "        text-align: right;\n",
       "    }\n",
       "</style>\n",
       "<table border=\"1\" class=\"dataframe\">\n",
       "  <thead>\n",
       "    <tr style=\"text-align: right;\">\n",
       "      <th></th>\n",
       "      <th>Kelly Leverage</th>\n",
       "      <th>Half-Kelly Leverage</th>\n",
       "    </tr>\n",
       "  </thead>\n",
       "  <tbody>\n",
       "    <tr>\n",
       "      <th>EDV</th>\n",
       "      <td>0.033435</td>\n",
       "      <td>0.016717</td>\n",
       "    </tr>\n",
       "    <tr>\n",
       "      <th>BIV</th>\n",
       "      <td>0.319941</td>\n",
       "      <td>0.159971</td>\n",
       "    </tr>\n",
       "    <tr>\n",
       "      <th>VGIT</th>\n",
       "      <td>-0.259162</td>\n",
       "      <td>-0.129581</td>\n",
       "    </tr>\n",
       "    <tr>\n",
       "      <th>BLV</th>\n",
       "      <td>0.128805</td>\n",
       "      <td>0.064403</td>\n",
       "    </tr>\n",
       "    <tr>\n",
       "      <th>VGLT</th>\n",
       "      <td>-0.059309</td>\n",
       "      <td>-0.029655</td>\n",
       "    </tr>\n",
       "    <tr>\n",
       "      <th>VMBS</th>\n",
       "      <td>-0.174542</td>\n",
       "      <td>-0.087271</td>\n",
       "    </tr>\n",
       "    <tr>\n",
       "      <th>BSV</th>\n",
       "      <td>-0.563545</td>\n",
       "      <td>-0.281772</td>\n",
       "    </tr>\n",
       "    <tr>\n",
       "      <th>VTIP</th>\n",
       "      <td>-0.250139</td>\n",
       "      <td>-0.125069</td>\n",
       "    </tr>\n",
       "    <tr>\n",
       "      <th>VGSH</th>\n",
       "      <td>-0.235515</td>\n",
       "      <td>-0.117757</td>\n",
       "    </tr>\n",
       "    <tr>\n",
       "      <th>BND</th>\n",
       "      <td>-0.128604</td>\n",
       "      <td>-0.064302</td>\n",
       "    </tr>\n",
       "    <tr>\n",
       "      <th>VCIT</th>\n",
       "      <td>0.584259</td>\n",
       "      <td>0.292129</td>\n",
       "    </tr>\n",
       "    <tr>\n",
       "      <th>VCLT</th>\n",
       "      <td>-0.196660</td>\n",
       "      <td>-0.098330</td>\n",
       "    </tr>\n",
       "    <tr>\n",
       "      <th>VCSH</th>\n",
       "      <td>1.066084</td>\n",
       "      <td>0.533042</td>\n",
       "    </tr>\n",
       "  </tbody>\n",
       "</table>\n",
       "</div>"
      ],
      "text/plain": [
       "      Kelly Leverage  Half-Kelly Leverage\n",
       "EDV         0.033435             0.016717\n",
       "BIV         0.319941             0.159971\n",
       "VGIT       -0.259162            -0.129581\n",
       "BLV         0.128805             0.064403\n",
       "VGLT       -0.059309            -0.029655\n",
       "VMBS       -0.174542            -0.087271\n",
       "BSV        -0.563545            -0.281772\n",
       "VTIP       -0.250139            -0.125069\n",
       "VGSH       -0.235515            -0.117757\n",
       "BND        -0.128604            -0.064302\n",
       "VCIT        0.584259             0.292129\n",
       "VCLT       -0.196660            -0.098330\n",
       "VCSH        1.066084             0.533042"
      ]
     },
     "execution_count": 7,
     "metadata": {},
     "output_type": "execute_result"
    }
   ],
   "source": [
    "group = 'us bonds'\n",
    "\n",
    "pd.DataFrame({'Kelly Leverage': output[group]['kelly'],\n",
    "              'Half-Kelly Leverage': output[group]['kelly half']},\n",
    "             index=output[group]['tickers'])"
   ]
  },
  {
   "cell_type": "markdown",
   "metadata": {},
   "source": [
    "The growth rate and Sharpe ratio are"
   ]
  },
  {
   "cell_type": "code",
   "execution_count": 8,
   "metadata": {},
   "outputs": [
    {
     "data": {
      "text/html": [
       "<div>\n",
       "<style scoped>\n",
       "    .dataframe tbody tr th:only-of-type {\n",
       "        vertical-align: middle;\n",
       "    }\n",
       "\n",
       "    .dataframe tbody tr th {\n",
       "        vertical-align: top;\n",
       "    }\n",
       "\n",
       "    .dataframe thead th {\n",
       "        text-align: right;\n",
       "    }\n",
       "</style>\n",
       "<table border=\"1\" class=\"dataframe\">\n",
       "  <thead>\n",
       "    <tr style=\"text-align: right;\">\n",
       "      <th></th>\n",
       "      <th>Kelly Leverage</th>\n",
       "      <th>Half-Kelly Leverage</th>\n",
       "    </tr>\n",
       "  </thead>\n",
       "  <tbody>\n",
       "    <tr>\n",
       "      <th>Growth Rate</th>\n",
       "      <td>0.118913</td>\n",
       "      <td>0.071989</td>\n",
       "    </tr>\n",
       "    <tr>\n",
       "      <th>Sharpe Ratio</th>\n",
       "      <td>0.016083</td>\n",
       "      <td>0.008041</td>\n",
       "    </tr>\n",
       "  </tbody>\n",
       "</table>\n",
       "</div>"
      ],
      "text/plain": [
       "              Kelly Leverage  Half-Kelly Leverage\n",
       "Growth Rate         0.118913             0.071989\n",
       "Sharpe Ratio        0.016083             0.008041"
      ]
     },
     "execution_count": 8,
     "metadata": {},
     "output_type": "execute_result"
    }
   ],
   "source": [
    "pd.DataFrame({'Kelly Leverage': [output[group]['growth'], output[group]['sharpe']],\n",
    "              'Half-Kelly Leverage': [output[group]['growth half'], output[group]['sharpe half']]},\n",
    "             index=['Growth Rate', 'Sharpe Ratio'])"
   ]
  },
  {
   "cell_type": "markdown",
   "metadata": {},
   "source": [
    "### Vanguard US Stocks ETFs"
   ]
  },
  {
   "cell_type": "markdown",
   "metadata": {},
   "source": [
    "The Kelly leverage for US Stocks ETFs are"
   ]
  },
  {
   "cell_type": "code",
   "execution_count": 9,
   "metadata": {},
   "outputs": [
    {
     "data": {
      "text/html": [
       "<div>\n",
       "<style scoped>\n",
       "    .dataframe tbody tr th:only-of-type {\n",
       "        vertical-align: middle;\n",
       "    }\n",
       "\n",
       "    .dataframe tbody tr th {\n",
       "        vertical-align: top;\n",
       "    }\n",
       "\n",
       "    .dataframe thead th {\n",
       "        text-align: right;\n",
       "    }\n",
       "</style>\n",
       "<table border=\"1\" class=\"dataframe\">\n",
       "  <thead>\n",
       "    <tr style=\"text-align: right;\">\n",
       "      <th></th>\n",
       "      <th>Kelly Leverage</th>\n",
       "      <th>Half-Kelly Leverage</th>\n",
       "    </tr>\n",
       "  </thead>\n",
       "  <tbody>\n",
       "    <tr>\n",
       "      <th>VIG</th>\n",
       "      <td>0.041141</td>\n",
       "      <td>0.020571</td>\n",
       "    </tr>\n",
       "    <tr>\n",
       "      <th>VUG</th>\n",
       "      <td>1.002729</td>\n",
       "      <td>0.501365</td>\n",
       "    </tr>\n",
       "    <tr>\n",
       "      <th>VYM</th>\n",
       "      <td>-0.071661</td>\n",
       "      <td>-0.035830</td>\n",
       "    </tr>\n",
       "    <tr>\n",
       "      <th>VV</th>\n",
       "      <td>-0.316355</td>\n",
       "      <td>-0.158177</td>\n",
       "    </tr>\n",
       "    <tr>\n",
       "      <th>MGC</th>\n",
       "      <td>0.160262</td>\n",
       "      <td>0.080131</td>\n",
       "    </tr>\n",
       "    <tr>\n",
       "      <th>MGK</th>\n",
       "      <td>-0.764937</td>\n",
       "      <td>-0.382468</td>\n",
       "    </tr>\n",
       "    <tr>\n",
       "      <th>MGV</th>\n",
       "      <td>0.140072</td>\n",
       "      <td>0.070036</td>\n",
       "    </tr>\n",
       "    <tr>\n",
       "      <th>VOO</th>\n",
       "      <td>-0.523720</td>\n",
       "      <td>-0.261860</td>\n",
       "    </tr>\n",
       "    <tr>\n",
       "      <th>VTI</th>\n",
       "      <td>0.371481</td>\n",
       "      <td>0.185741</td>\n",
       "    </tr>\n",
       "    <tr>\n",
       "      <th>VTV</th>\n",
       "      <td>-0.080391</td>\n",
       "      <td>-0.040196</td>\n",
       "    </tr>\n",
       "    <tr>\n",
       "      <th>VXF</th>\n",
       "      <td>-0.000184</td>\n",
       "      <td>-0.000092</td>\n",
       "    </tr>\n",
       "    <tr>\n",
       "      <th>VO</th>\n",
       "      <td>0.230401</td>\n",
       "      <td>0.115201</td>\n",
       "    </tr>\n",
       "    <tr>\n",
       "      <th>VOT</th>\n",
       "      <td>0.036146</td>\n",
       "      <td>0.018073</td>\n",
       "    </tr>\n",
       "    <tr>\n",
       "      <th>VOE</th>\n",
       "      <td>-0.000916</td>\n",
       "      <td>-0.000458</td>\n",
       "    </tr>\n",
       "    <tr>\n",
       "      <th>VB</th>\n",
       "      <td>0.025078</td>\n",
       "      <td>0.012539</td>\n",
       "    </tr>\n",
       "    <tr>\n",
       "      <th>VBK</th>\n",
       "      <td>-0.123581</td>\n",
       "      <td>-0.061790</td>\n",
       "    </tr>\n",
       "    <tr>\n",
       "      <th>VBR</th>\n",
       "      <td>-0.110945</td>\n",
       "      <td>-0.055473</td>\n",
       "    </tr>\n",
       "  </tbody>\n",
       "</table>\n",
       "</div>"
      ],
      "text/plain": [
       "     Kelly Leverage  Half-Kelly Leverage\n",
       "VIG        0.041141             0.020571\n",
       "VUG        1.002729             0.501365\n",
       "VYM       -0.071661            -0.035830\n",
       "VV        -0.316355            -0.158177\n",
       "MGC        0.160262             0.080131\n",
       "MGK       -0.764937            -0.382468\n",
       "MGV        0.140072             0.070036\n",
       "VOO       -0.523720            -0.261860\n",
       "VTI        0.371481             0.185741\n",
       "VTV       -0.080391            -0.040196\n",
       "VXF       -0.000184            -0.000092\n",
       "VO         0.230401             0.115201\n",
       "VOT        0.036146             0.018073\n",
       "VOE       -0.000916            -0.000458\n",
       "VB         0.025078             0.012539\n",
       "VBK       -0.123581            -0.061790\n",
       "VBR       -0.110945            -0.055473"
      ]
     },
     "execution_count": 9,
     "metadata": {},
     "output_type": "execute_result"
    }
   ],
   "source": [
    "group = 'us stocks'\n",
    "\n",
    "pd.DataFrame({'Kelly Leverage': output[group]['kelly'],\n",
    "              'Half-Kelly Leverage': output[group]['kelly half']},\n",
    "             index=output[group]['tickers'])"
   ]
  },
  {
   "cell_type": "markdown",
   "metadata": {},
   "source": [
    "The growth rate and Sharpe ratio are"
   ]
  },
  {
   "cell_type": "code",
   "execution_count": 10,
   "metadata": {},
   "outputs": [
    {
     "data": {
      "text/html": [
       "<div>\n",
       "<style scoped>\n",
       "    .dataframe tbody tr th:only-of-type {\n",
       "        vertical-align: middle;\n",
       "    }\n",
       "\n",
       "    .dataframe tbody tr th {\n",
       "        vertical-align: top;\n",
       "    }\n",
       "\n",
       "    .dataframe thead th {\n",
       "        text-align: right;\n",
       "    }\n",
       "</style>\n",
       "<table border=\"1\" class=\"dataframe\">\n",
       "  <thead>\n",
       "    <tr style=\"text-align: right;\">\n",
       "      <th></th>\n",
       "      <th>Kelly Leverage</th>\n",
       "      <th>Half-Kelly Leverage</th>\n",
       "    </tr>\n",
       "  </thead>\n",
       "  <tbody>\n",
       "    <tr>\n",
       "      <th>Growth Rate</th>\n",
       "      <td>0.075349</td>\n",
       "      <td>0.050197</td>\n",
       "    </tr>\n",
       "    <tr>\n",
       "      <th>Sharpe Ratio</th>\n",
       "      <td>0.013385</td>\n",
       "      <td>0.006692</td>\n",
       "    </tr>\n",
       "  </tbody>\n",
       "</table>\n",
       "</div>"
      ],
      "text/plain": [
       "              Kelly Leverage  Half-Kelly Leverage\n",
       "Growth Rate         0.075349             0.050197\n",
       "Sharpe Ratio        0.013385             0.006692"
      ]
     },
     "execution_count": 10,
     "metadata": {},
     "output_type": "execute_result"
    }
   ],
   "source": [
    "pd.DataFrame({'Kelly Leverage': [output[group]['growth'], output[group]['sharpe']],\n",
    "              'Half-Kelly Leverage': [output[group]['growth half'], output[group]['sharpe half']]},\n",
    "             index=['Growth Rate', 'Sharpe Ratio'])"
   ]
  },
  {
   "cell_type": "markdown",
   "metadata": {},
   "source": [
    "### Vanguard International Bonds ETFs"
   ]
  },
  {
   "cell_type": "markdown",
   "metadata": {},
   "source": [
    "The Kelly leverage for International Bonds ETFs are"
   ]
  },
  {
   "cell_type": "code",
   "execution_count": 11,
   "metadata": {},
   "outputs": [
    {
     "data": {
      "text/html": [
       "<div>\n",
       "<style scoped>\n",
       "    .dataframe tbody tr th:only-of-type {\n",
       "        vertical-align: middle;\n",
       "    }\n",
       "\n",
       "    .dataframe tbody tr th {\n",
       "        vertical-align: top;\n",
       "    }\n",
       "\n",
       "    .dataframe thead th {\n",
       "        text-align: right;\n",
       "    }\n",
       "</style>\n",
       "<table border=\"1\" class=\"dataframe\">\n",
       "  <thead>\n",
       "    <tr style=\"text-align: right;\">\n",
       "      <th></th>\n",
       "      <th>Kelly Leverage</th>\n",
       "      <th>Half-Kelly Leverage</th>\n",
       "    </tr>\n",
       "  </thead>\n",
       "  <tbody>\n",
       "    <tr>\n",
       "      <th>BNDX</th>\n",
       "      <td>2.705469</td>\n",
       "      <td>1.352734</td>\n",
       "    </tr>\n",
       "    <tr>\n",
       "      <th>VWOB</th>\n",
       "      <td>1.294531</td>\n",
       "      <td>0.647266</td>\n",
       "    </tr>\n",
       "  </tbody>\n",
       "</table>\n",
       "</div>"
      ],
      "text/plain": [
       "      Kelly Leverage  Half-Kelly Leverage\n",
       "BNDX        2.705469             1.352734\n",
       "VWOB        1.294531             0.647266"
      ]
     },
     "execution_count": 11,
     "metadata": {},
     "output_type": "execute_result"
    }
   ],
   "source": [
    "group = 'intl bonds'\n",
    "\n",
    "pd.DataFrame({'Kelly Leverage': output[group]['kelly'],\n",
    "              'Half-Kelly Leverage': output[group]['kelly half']},\n",
    "             index=output[group]['tickers'])"
   ]
  },
  {
   "cell_type": "markdown",
   "metadata": {},
   "source": [
    "The growth rate and Sharpe ratio are"
   ]
  },
  {
   "cell_type": "code",
   "execution_count": 12,
   "metadata": {},
   "outputs": [
    {
     "data": {
      "text/html": [
       "<div>\n",
       "<style scoped>\n",
       "    .dataframe tbody tr th:only-of-type {\n",
       "        vertical-align: middle;\n",
       "    }\n",
       "\n",
       "    .dataframe tbody tr th {\n",
       "        vertical-align: top;\n",
       "    }\n",
       "\n",
       "    .dataframe thead th {\n",
       "        text-align: right;\n",
       "    }\n",
       "</style>\n",
       "<table border=\"1\" class=\"dataframe\">\n",
       "  <thead>\n",
       "    <tr style=\"text-align: right;\">\n",
       "      <th></th>\n",
       "      <th>Kelly Leverage</th>\n",
       "      <th>Half-Kelly Leverage</th>\n",
       "    </tr>\n",
       "  </thead>\n",
       "  <tbody>\n",
       "    <tr>\n",
       "      <th>Growth Rate</th>\n",
       "      <td>0.444818</td>\n",
       "      <td>0.235588</td>\n",
       "    </tr>\n",
       "    <tr>\n",
       "      <th>Sharpe Ratio</th>\n",
       "      <td>0.073694</td>\n",
       "      <td>0.036847</td>\n",
       "    </tr>\n",
       "  </tbody>\n",
       "</table>\n",
       "</div>"
      ],
      "text/plain": [
       "              Kelly Leverage  Half-Kelly Leverage\n",
       "Growth Rate         0.444818             0.235588\n",
       "Sharpe Ratio        0.073694             0.036847"
      ]
     },
     "execution_count": 12,
     "metadata": {},
     "output_type": "execute_result"
    }
   ],
   "source": [
    "pd.DataFrame({'Kelly Leverage': [output[group]['growth'], output[group]['sharpe']],\n",
    "              'Half-Kelly Leverage': [output[group]['growth half'], output[group]['sharpe half']]},\n",
    "             index=['Growth Rate', 'Sharpe Ratio'])"
   ]
  },
  {
   "cell_type": "markdown",
   "metadata": {},
   "source": [
    "### Vanguard International Stocks ETFs"
   ]
  },
  {
   "cell_type": "markdown",
   "metadata": {},
   "source": [
    "The Kelly leverage for International Stocks ETFs are"
   ]
  },
  {
   "cell_type": "code",
   "execution_count": 13,
   "metadata": {},
   "outputs": [
    {
     "data": {
      "text/html": [
       "<div>\n",
       "<style scoped>\n",
       "    .dataframe tbody tr th:only-of-type {\n",
       "        vertical-align: middle;\n",
       "    }\n",
       "\n",
       "    .dataframe tbody tr th {\n",
       "        vertical-align: top;\n",
       "    }\n",
       "\n",
       "    .dataframe thead th {\n",
       "        text-align: right;\n",
       "    }\n",
       "</style>\n",
       "<table border=\"1\" class=\"dataframe\">\n",
       "  <thead>\n",
       "    <tr style=\"text-align: right;\">\n",
       "      <th></th>\n",
       "      <th>Kelly Leverage</th>\n",
       "      <th>Half-Kelly Leverage</th>\n",
       "    </tr>\n",
       "  </thead>\n",
       "  <tbody>\n",
       "    <tr>\n",
       "      <th>VT</th>\n",
       "      <td>0.173985</td>\n",
       "      <td>0.086992</td>\n",
       "    </tr>\n",
       "    <tr>\n",
       "      <th>VEU</th>\n",
       "      <td>0.827119</td>\n",
       "      <td>0.413560</td>\n",
       "    </tr>\n",
       "    <tr>\n",
       "      <th>VSS</th>\n",
       "      <td>-0.098323</td>\n",
       "      <td>-0.049162</td>\n",
       "    </tr>\n",
       "    <tr>\n",
       "      <th>VEA</th>\n",
       "      <td>0.691189</td>\n",
       "      <td>0.345595</td>\n",
       "    </tr>\n",
       "    <tr>\n",
       "      <th>VGK</th>\n",
       "      <td>-0.146990</td>\n",
       "      <td>-0.073495</td>\n",
       "    </tr>\n",
       "    <tr>\n",
       "      <th>VPL</th>\n",
       "      <td>-0.764251</td>\n",
       "      <td>-0.382125</td>\n",
       "    </tr>\n",
       "    <tr>\n",
       "      <th>VNQI</th>\n",
       "      <td>0.390855</td>\n",
       "      <td>0.195428</td>\n",
       "    </tr>\n",
       "    <tr>\n",
       "      <th>VXUS</th>\n",
       "      <td>-0.878502</td>\n",
       "      <td>-0.439251</td>\n",
       "    </tr>\n",
       "    <tr>\n",
       "      <th>VWO</th>\n",
       "      <td>0.028785</td>\n",
       "      <td>0.014393</td>\n",
       "    </tr>\n",
       "  </tbody>\n",
       "</table>\n",
       "</div>"
      ],
      "text/plain": [
       "      Kelly Leverage  Half-Kelly Leverage\n",
       "VT          0.173985             0.086992\n",
       "VEU         0.827119             0.413560\n",
       "VSS        -0.098323            -0.049162\n",
       "VEA         0.691189             0.345595\n",
       "VGK        -0.146990            -0.073495\n",
       "VPL        -0.764251            -0.382125\n",
       "VNQI        0.390855             0.195428\n",
       "VXUS       -0.878502            -0.439251\n",
       "VWO         0.028785             0.014393"
      ]
     },
     "execution_count": 13,
     "metadata": {},
     "output_type": "execute_result"
    }
   ],
   "source": [
    "group = 'intl stocks'\n",
    "\n",
    "pd.DataFrame({'Kelly Leverage': output[group]['kelly'],\n",
    "              'Half-Kelly Leverage': output[group]['kelly half']},\n",
    "             index=output[group]['tickers'])"
   ]
  },
  {
   "cell_type": "markdown",
   "metadata": {},
   "source": [
    "The growth rate and Sharpe ratio are"
   ]
  },
  {
   "cell_type": "code",
   "execution_count": 14,
   "metadata": {},
   "outputs": [
    {
     "data": {
      "text/html": [
       "<div>\n",
       "<style scoped>\n",
       "    .dataframe tbody tr th:only-of-type {\n",
       "        vertical-align: middle;\n",
       "    }\n",
       "\n",
       "    .dataframe tbody tr th {\n",
       "        vertical-align: top;\n",
       "    }\n",
       "\n",
       "    .dataframe thead th {\n",
       "        text-align: right;\n",
       "    }\n",
       "</style>\n",
       "<table border=\"1\" class=\"dataframe\">\n",
       "  <thead>\n",
       "    <tr style=\"text-align: right;\">\n",
       "      <th></th>\n",
       "      <th>Kelly Leverage</th>\n",
       "      <th>Half-Kelly Leverage</th>\n",
       "    </tr>\n",
       "  </thead>\n",
       "  <tbody>\n",
       "    <tr>\n",
       "      <th>Growth Rate</th>\n",
       "      <td>0.126155</td>\n",
       "      <td>0.075764</td>\n",
       "    </tr>\n",
       "    <tr>\n",
       "      <th>Sharpe Ratio</th>\n",
       "      <td>0.038642</td>\n",
       "      <td>0.019321</td>\n",
       "    </tr>\n",
       "  </tbody>\n",
       "</table>\n",
       "</div>"
      ],
      "text/plain": [
       "              Kelly Leverage  Half-Kelly Leverage\n",
       "Growth Rate         0.126155             0.075764\n",
       "Sharpe Ratio        0.038642             0.019321"
      ]
     },
     "execution_count": 14,
     "metadata": {},
     "output_type": "execute_result"
    }
   ],
   "source": [
    "pd.DataFrame({'Kelly Leverage': [output[group]['growth'], output[group]['sharpe']],\n",
    "              'Half-Kelly Leverage': [output[group]['growth half'], output[group]['sharpe half']]},\n",
    "             index=['Growth Rate', 'Sharpe Ratio'])"
   ]
  },
  {
   "cell_type": "markdown",
   "metadata": {},
   "source": [
    "### Vanguard Sectors ETFs"
   ]
  },
  {
   "cell_type": "markdown",
   "metadata": {},
   "source": [
    "The Kelly leverage for sectors ETFs are"
   ]
  },
  {
   "cell_type": "code",
   "execution_count": 16,
   "metadata": {},
   "outputs": [
    {
     "data": {
      "text/html": [
       "<div>\n",
       "<style scoped>\n",
       "    .dataframe tbody tr th:only-of-type {\n",
       "        vertical-align: middle;\n",
       "    }\n",
       "\n",
       "    .dataframe tbody tr th {\n",
       "        vertical-align: top;\n",
       "    }\n",
       "\n",
       "    .dataframe thead th {\n",
       "        text-align: right;\n",
       "    }\n",
       "</style>\n",
       "<table border=\"1\" class=\"dataframe\">\n",
       "  <thead>\n",
       "    <tr style=\"text-align: right;\">\n",
       "      <th></th>\n",
       "      <th>Kelly Leverage</th>\n",
       "      <th>Half-Kelly Leverage</th>\n",
       "    </tr>\n",
       "  </thead>\n",
       "  <tbody>\n",
       "    <tr>\n",
       "      <th>VOX</th>\n",
       "      <td>0.050629</td>\n",
       "      <td>0.025314</td>\n",
       "    </tr>\n",
       "    <tr>\n",
       "      <th>VCR</th>\n",
       "      <td>-0.346022</td>\n",
       "      <td>-0.173011</td>\n",
       "    </tr>\n",
       "    <tr>\n",
       "      <th>VDC</th>\n",
       "      <td>-0.104041</td>\n",
       "      <td>-0.052020</td>\n",
       "    </tr>\n",
       "    <tr>\n",
       "      <th>VDE</th>\n",
       "      <td>-0.488407</td>\n",
       "      <td>-0.244203</td>\n",
       "    </tr>\n",
       "    <tr>\n",
       "      <th>VFH</th>\n",
       "      <td>0.714675</td>\n",
       "      <td>0.357338</td>\n",
       "    </tr>\n",
       "    <tr>\n",
       "      <th>VHT</th>\n",
       "      <td>-0.816149</td>\n",
       "      <td>-0.408074</td>\n",
       "    </tr>\n",
       "    <tr>\n",
       "      <th>VIS</th>\n",
       "      <td>0.159580</td>\n",
       "      <td>0.079790</td>\n",
       "    </tr>\n",
       "    <tr>\n",
       "      <th>VGT</th>\n",
       "      <td>0.616926</td>\n",
       "      <td>0.308463</td>\n",
       "    </tr>\n",
       "    <tr>\n",
       "      <th>VAW</th>\n",
       "      <td>0.016476</td>\n",
       "      <td>0.008238</td>\n",
       "    </tr>\n",
       "    <tr>\n",
       "      <th>VNQ</th>\n",
       "      <td>0.514397</td>\n",
       "      <td>0.257199</td>\n",
       "    </tr>\n",
       "    <tr>\n",
       "      <th>VPU</th>\n",
       "      <td>0.172700</td>\n",
       "      <td>0.086350</td>\n",
       "    </tr>\n",
       "  </tbody>\n",
       "</table>\n",
       "</div>"
      ],
      "text/plain": [
       "     Kelly Leverage  Half-Kelly Leverage\n",
       "VOX        0.050629             0.025314\n",
       "VCR       -0.346022            -0.173011\n",
       "VDC       -0.104041            -0.052020\n",
       "VDE       -0.488407            -0.244203\n",
       "VFH        0.714675             0.357338\n",
       "VHT       -0.816149            -0.408074\n",
       "VIS        0.159580             0.079790\n",
       "VGT        0.616926             0.308463\n",
       "VAW        0.016476             0.008238\n",
       "VNQ        0.514397             0.257199\n",
       "VPU        0.172700             0.086350"
      ]
     },
     "execution_count": 16,
     "metadata": {},
     "output_type": "execute_result"
    }
   ],
   "source": [
    "group = 'sectors'\n",
    "\n",
    "pd.DataFrame({'Kelly Leverage': output[group]['kelly'],\n",
    "              'Half-Kelly Leverage': output[group]['kelly half']},\n",
    "             index=output[group]['tickers'])"
   ]
  },
  {
   "cell_type": "markdown",
   "metadata": {},
   "source": [
    "The growth rate and Sharpe ratio are"
   ]
  },
  {
   "cell_type": "code",
   "execution_count": 17,
   "metadata": {},
   "outputs": [
    {
     "data": {
      "text/html": [
       "<div>\n",
       "<style scoped>\n",
       "    .dataframe tbody tr th:only-of-type {\n",
       "        vertical-align: middle;\n",
       "    }\n",
       "\n",
       "    .dataframe tbody tr th {\n",
       "        vertical-align: top;\n",
       "    }\n",
       "\n",
       "    .dataframe thead th {\n",
       "        text-align: right;\n",
       "    }\n",
       "</style>\n",
       "<table border=\"1\" class=\"dataframe\">\n",
       "  <thead>\n",
       "    <tr style=\"text-align: right;\">\n",
       "      <th></th>\n",
       "      <th>Kelly Leverage</th>\n",
       "      <th>Half-Kelly Leverage</th>\n",
       "    </tr>\n",
       "  </thead>\n",
       "  <tbody>\n",
       "    <tr>\n",
       "      <th>Growth Rate</th>\n",
       "      <td>0.533054</td>\n",
       "      <td>0.281720</td>\n",
       "    </tr>\n",
       "    <tr>\n",
       "      <th>Sharpe Ratio</th>\n",
       "      <td>0.146787</td>\n",
       "      <td>0.073393</td>\n",
       "    </tr>\n",
       "  </tbody>\n",
       "</table>\n",
       "</div>"
      ],
      "text/plain": [
       "              Kelly Leverage  Half-Kelly Leverage\n",
       "Growth Rate         0.533054             0.281720\n",
       "Sharpe Ratio        0.146787             0.073393"
      ]
     },
     "execution_count": 17,
     "metadata": {},
     "output_type": "execute_result"
    }
   ],
   "source": [
    "pd.DataFrame({'Kelly Leverage': [output[group]['growth'], output[group]['sharpe']],\n",
    "              'Half-Kelly Leverage': [output[group]['growth half'], output[group]['sharpe half']]},\n",
    "             index=['Growth Rate', 'Sharpe Ratio'])"
   ]
  },
  {
   "cell_type": "markdown",
   "metadata": {},
   "source": [
    "## Conclusion\n",
    "..."
   ]
  },
  {
   "cell_type": "code",
   "execution_count": null,
   "metadata": {},
   "outputs": [],
   "source": []
  }
 ],
 "metadata": {
  "kernelspec": {
   "display_name": "Python 3",
   "language": "python",
   "name": "python3"
  },
  "language_info": {
   "codemirror_mode": {
    "name": "ipython",
    "version": 3
   },
   "file_extension": ".py",
   "mimetype": "text/x-python",
   "name": "python",
   "nbconvert_exporter": "python",
   "pygments_lexer": "ipython3",
   "version": "3.7.1"
  }
 },
 "nbformat": 4,
 "nbformat_minor": 2
}
