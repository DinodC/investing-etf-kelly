{
 "cells": [
  {
   "cell_type": "markdown",
   "metadata": {},
   "source": [
    "# Investing On ETFs Using The Kelly Formula Part 2"
   ]
  },
  {
   "cell_type": "markdown",
   "metadata": {},
   "source": [
    "## How To Allocate Capital Using The Kelly Formula"
   ]
  },
  {
   "cell_type": "markdown",
   "metadata": {},
   "source": [
    "## Introduction\n",
    "..."
   ]
  },
  {
   "cell_type": "markdown",
   "metadata": {},
   "source": [
    "## The Kelly Formula\n",
    "\n",
    "### Ed Thorp\n",
    "...\n",
    "\n",
    "### Optimal Capital Allocation\n",
    "..."
   ]
  },
  {
   "cell_type": "markdown",
   "metadata": {},
   "source": [
    "## Menu\n",
    "1. ...\n",
    "2. ..."
   ]
  },
  {
   "cell_type": "markdown",
   "metadata": {},
   "source": [
    "Import packages"
   ]
  },
  {
   "cell_type": "code",
   "execution_count": 1,
   "metadata": {},
   "outputs": [],
   "source": [
    "import numpy as np\n",
    "import pandas as pd\n",
    "from pandas import Series, DataFrame\n",
    "import pickle\n",
    "import matplotlib.pyplot as plt\n",
    "%matplotlib inline"
   ]
  },
  {
   "cell_type": "markdown",
   "metadata": {},
   "source": [
    "Set group keys"
   ]
  },
  {
   "cell_type": "code",
   "execution_count": 2,
   "metadata": {},
   "outputs": [],
   "source": [
    "groups = ['us bonds',\n",
    "          'us stocks',\n",
    "          'intl bonds',\n",
    "          'intl stocks',\n",
    "          'sectors']"
   ]
  },
  {
   "cell_type": "markdown",
   "metadata": {},
   "source": [
    "Set input input files"
   ]
  },
  {
   "cell_type": "code",
   "execution_count": 3,
   "metadata": {},
   "outputs": [],
   "source": [
    "input = {'us bonds': 'etf_us_bonds.pickle', \n",
    "         'us stocks': 'etf_us_stocks.pickle',\n",
    "         'intl bonds': 'etf_intl_bonds.pickle',\n",
    "         'intl stocks': 'etf_intl_stocks.pickle',\n",
    "         'sectors': 'etf_sectors.pickle'}"
   ]
  },
  {
   "cell_type": "markdown",
   "metadata": {},
   "source": [
    "Create output dictionary"
   ]
  },
  {
   "cell_type": "code",
   "execution_count": 4,
   "metadata": {},
   "outputs": [],
   "source": [
    "output = {'us bonds': {},\n",
    "          'us stocks': {},\n",
    "          'intl bonds': {},\n",
    "          'intl stocks': {},\n",
    "          'sectors': {}}"
   ]
  },
  {
   "cell_type": "markdown",
   "metadata": {},
   "source": [
    "Set market parameters:\n",
    "1. Risk-free rate (yearly)\n",
    "2. Maximum leverage allowed by US-regulated brokers"
   ]
  },
  {
   "cell_type": "code",
   "execution_count": 5,
   "metadata": {},
   "outputs": [],
   "source": [
    "# Paremeters\n",
    "risk_free = 0.025\n",
    "max_leverage = 4.00"
   ]
  },
  {
   "cell_type": "markdown",
   "metadata": {},
   "source": [
    "Calculate Kelly leverage of each ETF group"
   ]
  },
  {
   "cell_type": "code",
   "execution_count": 6,
   "metadata": {},
   "outputs": [],
   "source": [
    "for i in groups:    \n",
    "\n",
    "    # Load file\n",
    "    with open(input[i], 'rb') as f:\n",
    "        close = pickle.load(f)\n",
    "    f.close()\n",
    "    \n",
    "    # Daily returns\n",
    "    returns = close.pct_change()\n",
    "    \n",
    "    # Excess daily returns\n",
    "    excess_returns = returns - risk_free / 250\n",
    "    \n",
    "    # Mean excess daily returns annualized\n",
    "    M = excess_returns.mean() * 250\n",
    "    \n",
    "    # Covariance of daily returns\n",
    "    C = returns.cov() * 250\n",
    "    \n",
    "    # Kelly leverage: F = C^-1 * M\n",
    "    F = np.matmul(np.linalg.inv(C), M)\n",
    "    \n",
    "    # Constraint of max leverage 4:1\n",
    "    mask = (F > max_leverage)\n",
    "    F[mask] = max_leverage\n",
    "    mask = (F < -max_leverage)\n",
    "    F[mask] = - max_leverage\n",
    "    \n",
    "    # Half Kelly \n",
    "    F2 = 0.5 * F\n",
    "    \n",
    "    # Growth rate\n",
    "    g = risk_free + np.matmul(F, np.transpose(M)) - 0.5 * np.matmul(np.matmul(np.transpose(F), C), F)\n",
    "\n",
    "    # Growth at half Kelly\n",
    "    g2 = risk_free + np.matmul(F2, np.transpose(M)) - 0.5 * np.matmul(np.matmul(np.transpose(F2), C), F2)\n",
    "    \n",
    "    # Sharpe ratio\n",
    "    sharpe = np.matmul(np.matmul(np.transpose(F), C), F)\n",
    "    \n",
    "    # Sharpe at half Kelly\n",
    "    sharpe2 = np.matmul(np.matmul(np.transpose(F2), C), F2)\n",
    "    \n",
    "    # Update output\n",
    "    output[i]['tickers'] = list(close.columns)\n",
    "    output[i]['kelly'] = list(F)\n",
    "    output[i]['kelly2'] = list(F2)\n",
    "    output[i]['growth'] = g\n",
    "    output[i]['growth2'] = g2\n",
    "    output[i]['sharpe'] = sharpe\n",
    "    output[i]['sharpe2'] = sharpe2"
   ]
  },
  {
   "cell_type": "markdown",
   "metadata": {},
   "source": [
    "### Vanguard US Bonds ETFs"
   ]
  },
  {
   "cell_type": "markdown",
   "metadata": {},
   "source": [
    "The Kelly leverage for US Bonds ETFs are"
   ]
  },
  {
   "cell_type": "code",
   "execution_count": 7,
   "metadata": {},
   "outputs": [
    {
     "data": {
      "text/html": [
       "<div>\n",
       "<style scoped>\n",
       "    .dataframe tbody tr th:only-of-type {\n",
       "        vertical-align: middle;\n",
       "    }\n",
       "\n",
       "    .dataframe tbody tr th {\n",
       "        vertical-align: top;\n",
       "    }\n",
       "\n",
       "    .dataframe thead th {\n",
       "        text-align: right;\n",
       "    }\n",
       "</style>\n",
       "<table border=\"1\" class=\"dataframe\">\n",
       "  <thead>\n",
       "    <tr style=\"text-align: right;\">\n",
       "      <th></th>\n",
       "      <th>Kelly Leverage</th>\n",
       "      <th>Half-Kelly Leverage</th>\n",
       "    </tr>\n",
       "  </thead>\n",
       "  <tbody>\n",
       "    <tr>\n",
       "      <th>EDV</th>\n",
       "      <td>3.633497</td>\n",
       "      <td>1.816749</td>\n",
       "    </tr>\n",
       "    <tr>\n",
       "      <th>BIV</th>\n",
       "      <td>4.000000</td>\n",
       "      <td>2.000000</td>\n",
       "    </tr>\n",
       "    <tr>\n",
       "      <th>VGIT</th>\n",
       "      <td>4.000000</td>\n",
       "      <td>2.000000</td>\n",
       "    </tr>\n",
       "    <tr>\n",
       "      <th>BLV</th>\n",
       "      <td>-4.000000</td>\n",
       "      <td>-2.000000</td>\n",
       "    </tr>\n",
       "    <tr>\n",
       "      <th>VGLT</th>\n",
       "      <td>-4.000000</td>\n",
       "      <td>-2.000000</td>\n",
       "    </tr>\n",
       "    <tr>\n",
       "      <th>VMBS</th>\n",
       "      <td>-4.000000</td>\n",
       "      <td>-2.000000</td>\n",
       "    </tr>\n",
       "    <tr>\n",
       "      <th>BSV</th>\n",
       "      <td>-4.000000</td>\n",
       "      <td>-2.000000</td>\n",
       "    </tr>\n",
       "    <tr>\n",
       "      <th>VTIP</th>\n",
       "      <td>-4.000000</td>\n",
       "      <td>-2.000000</td>\n",
       "    </tr>\n",
       "    <tr>\n",
       "      <th>VGSH</th>\n",
       "      <td>-4.000000</td>\n",
       "      <td>-2.000000</td>\n",
       "    </tr>\n",
       "    <tr>\n",
       "      <th>BND</th>\n",
       "      <td>4.000000</td>\n",
       "      <td>2.000000</td>\n",
       "    </tr>\n",
       "    <tr>\n",
       "      <th>VCIT</th>\n",
       "      <td>4.000000</td>\n",
       "      <td>2.000000</td>\n",
       "    </tr>\n",
       "    <tr>\n",
       "      <th>VCLT</th>\n",
       "      <td>-4.000000</td>\n",
       "      <td>-2.000000</td>\n",
       "    </tr>\n",
       "    <tr>\n",
       "      <th>VCSH</th>\n",
       "      <td>4.000000</td>\n",
       "      <td>2.000000</td>\n",
       "    </tr>\n",
       "  </tbody>\n",
       "</table>\n",
       "</div>"
      ],
      "text/plain": [
       "      Kelly Leverage  Half-Kelly Leverage\n",
       "EDV         3.633497             1.816749\n",
       "BIV         4.000000             2.000000\n",
       "VGIT        4.000000             2.000000\n",
       "BLV        -4.000000            -2.000000\n",
       "VGLT       -4.000000            -2.000000\n",
       "VMBS       -4.000000            -2.000000\n",
       "BSV        -4.000000            -2.000000\n",
       "VTIP       -4.000000            -2.000000\n",
       "VGSH       -4.000000            -2.000000\n",
       "BND         4.000000             2.000000\n",
       "VCIT        4.000000             2.000000\n",
       "VCLT       -4.000000            -2.000000\n",
       "VCSH        4.000000             2.000000"
      ]
     },
     "execution_count": 7,
     "metadata": {},
     "output_type": "execute_result"
    }
   ],
   "source": [
    "group = 'us bonds'\n",
    "\n",
    "pd.DataFrame({'Kelly Leverage': output[group]['kelly'],\n",
    "              'Half-Kelly Leverage': output[group]['kelly2']},\n",
    "             index=output[group]['tickers'])"
   ]
  },
  {
   "cell_type": "markdown",
   "metadata": {},
   "source": [
    "The growth rate and Sharpe ratio are"
   ]
  },
  {
   "cell_type": "code",
   "execution_count": 8,
   "metadata": {},
   "outputs": [
    {
     "data": {
      "text/html": [
       "<div>\n",
       "<style scoped>\n",
       "    .dataframe tbody tr th:only-of-type {\n",
       "        vertical-align: middle;\n",
       "    }\n",
       "\n",
       "    .dataframe tbody tr th {\n",
       "        vertical-align: top;\n",
       "    }\n",
       "\n",
       "    .dataframe thead th {\n",
       "        text-align: right;\n",
       "    }\n",
       "</style>\n",
       "<table border=\"1\" class=\"dataframe\">\n",
       "  <thead>\n",
       "    <tr style=\"text-align: right;\">\n",
       "      <th></th>\n",
       "      <th>Kelly Leverage</th>\n",
       "      <th>Half-Kelly Leverage</th>\n",
       "    </tr>\n",
       "  </thead>\n",
       "  <tbody>\n",
       "    <tr>\n",
       "      <th>Growth Rate</th>\n",
       "      <td>0.093937</td>\n",
       "      <td>0.067602</td>\n",
       "    </tr>\n",
       "    <tr>\n",
       "      <th>Sharpe Ratio</th>\n",
       "      <td>0.065067</td>\n",
       "      <td>0.016267</td>\n",
       "    </tr>\n",
       "  </tbody>\n",
       "</table>\n",
       "</div>"
      ],
      "text/plain": [
       "              Kelly Leverage  Half-Kelly Leverage\n",
       "Growth Rate         0.093937             0.067602\n",
       "Sharpe Ratio        0.065067             0.016267"
      ]
     },
     "execution_count": 8,
     "metadata": {},
     "output_type": "execute_result"
    }
   ],
   "source": [
    "pd.DataFrame({'Kelly Leverage': [output[group]['growth'], output[group]['sharpe']],\n",
    "              'Half-Kelly Leverage': [output[group]['growth2'], output[group]['sharpe2']]},\n",
    "             index=['Growth Rate', 'Sharpe Ratio'])"
   ]
  },
  {
   "cell_type": "markdown",
   "metadata": {},
   "source": [
    "### Vanguard US Stocks ETFs"
   ]
  },
  {
   "cell_type": "markdown",
   "metadata": {},
   "source": [
    "The Kelly leverage for US Stocks ETFs are"
   ]
  },
  {
   "cell_type": "code",
   "execution_count": 9,
   "metadata": {},
   "outputs": [
    {
     "data": {
      "text/html": [
       "<div>\n",
       "<style scoped>\n",
       "    .dataframe tbody tr th:only-of-type {\n",
       "        vertical-align: middle;\n",
       "    }\n",
       "\n",
       "    .dataframe tbody tr th {\n",
       "        vertical-align: top;\n",
       "    }\n",
       "\n",
       "    .dataframe thead th {\n",
       "        text-align: right;\n",
       "    }\n",
       "</style>\n",
       "<table border=\"1\" class=\"dataframe\">\n",
       "  <thead>\n",
       "    <tr style=\"text-align: right;\">\n",
       "      <th></th>\n",
       "      <th>Kelly Leverage</th>\n",
       "      <th>Half-Kelly Leverage</th>\n",
       "    </tr>\n",
       "  </thead>\n",
       "  <tbody>\n",
       "    <tr>\n",
       "      <th>VIG</th>\n",
       "      <td>4.000000</td>\n",
       "      <td>2.000000</td>\n",
       "    </tr>\n",
       "    <tr>\n",
       "      <th>VUG</th>\n",
       "      <td>-4.000000</td>\n",
       "      <td>-2.000000</td>\n",
       "    </tr>\n",
       "    <tr>\n",
       "      <th>VYM</th>\n",
       "      <td>-3.070013</td>\n",
       "      <td>-1.535006</td>\n",
       "    </tr>\n",
       "    <tr>\n",
       "      <th>VV</th>\n",
       "      <td>-4.000000</td>\n",
       "      <td>-2.000000</td>\n",
       "    </tr>\n",
       "    <tr>\n",
       "      <th>MGC</th>\n",
       "      <td>1.691192</td>\n",
       "      <td>0.845596</td>\n",
       "    </tr>\n",
       "    <tr>\n",
       "      <th>MGK</th>\n",
       "      <td>4.000000</td>\n",
       "      <td>2.000000</td>\n",
       "    </tr>\n",
       "    <tr>\n",
       "      <th>MGV</th>\n",
       "      <td>-1.013273</td>\n",
       "      <td>-0.506637</td>\n",
       "    </tr>\n",
       "    <tr>\n",
       "      <th>VOO</th>\n",
       "      <td>0.841784</td>\n",
       "      <td>0.420892</td>\n",
       "    </tr>\n",
       "    <tr>\n",
       "      <th>VTI</th>\n",
       "      <td>1.814237</td>\n",
       "      <td>0.907118</td>\n",
       "    </tr>\n",
       "    <tr>\n",
       "      <th>VTV</th>\n",
       "      <td>4.000000</td>\n",
       "      <td>2.000000</td>\n",
       "    </tr>\n",
       "    <tr>\n",
       "      <th>VXF</th>\n",
       "      <td>-4.000000</td>\n",
       "      <td>-2.000000</td>\n",
       "    </tr>\n",
       "    <tr>\n",
       "      <th>VO</th>\n",
       "      <td>1.594342</td>\n",
       "      <td>0.797171</td>\n",
       "    </tr>\n",
       "    <tr>\n",
       "      <th>VOT</th>\n",
       "      <td>1.937247</td>\n",
       "      <td>0.968623</td>\n",
       "    </tr>\n",
       "    <tr>\n",
       "      <th>VOE</th>\n",
       "      <td>-4.000000</td>\n",
       "      <td>-2.000000</td>\n",
       "    </tr>\n",
       "    <tr>\n",
       "      <th>VB</th>\n",
       "      <td>-1.559197</td>\n",
       "      <td>-0.779598</td>\n",
       "    </tr>\n",
       "    <tr>\n",
       "      <th>VBK</th>\n",
       "      <td>4.000000</td>\n",
       "      <td>2.000000</td>\n",
       "    </tr>\n",
       "    <tr>\n",
       "      <th>VBR</th>\n",
       "      <td>2.233899</td>\n",
       "      <td>1.116950</td>\n",
       "    </tr>\n",
       "  </tbody>\n",
       "</table>\n",
       "</div>"
      ],
      "text/plain": [
       "     Kelly Leverage  Half-Kelly Leverage\n",
       "VIG        4.000000             2.000000\n",
       "VUG       -4.000000            -2.000000\n",
       "VYM       -3.070013            -1.535006\n",
       "VV        -4.000000            -2.000000\n",
       "MGC        1.691192             0.845596\n",
       "MGK        4.000000             2.000000\n",
       "MGV       -1.013273            -0.506637\n",
       "VOO        0.841784             0.420892\n",
       "VTI        1.814237             0.907118\n",
       "VTV        4.000000             2.000000\n",
       "VXF       -4.000000            -2.000000\n",
       "VO         1.594342             0.797171\n",
       "VOT        1.937247             0.968623\n",
       "VOE       -4.000000            -2.000000\n",
       "VB        -1.559197            -0.779598\n",
       "VBK        4.000000             2.000000\n",
       "VBR        2.233899             1.116950"
      ]
     },
     "execution_count": 9,
     "metadata": {},
     "output_type": "execute_result"
    }
   ],
   "source": [
    "group = 'us stocks'\n",
    "\n",
    "pd.DataFrame({'Kelly Leverage': output[group]['kelly'],\n",
    "              'Half-Kelly Leverage': output[group]['kelly2']},\n",
    "             index=output[group]['tickers'])"
   ]
  },
  {
   "cell_type": "markdown",
   "metadata": {},
   "source": [
    "The growth rate and Sharpe ratio are"
   ]
  },
  {
   "cell_type": "code",
   "execution_count": 10,
   "metadata": {},
   "outputs": [
    {
     "data": {
      "text/html": [
       "<div>\n",
       "<style scoped>\n",
       "    .dataframe tbody tr th:only-of-type {\n",
       "        vertical-align: middle;\n",
       "    }\n",
       "\n",
       "    .dataframe tbody tr th {\n",
       "        vertical-align: top;\n",
       "    }\n",
       "\n",
       "    .dataframe thead th {\n",
       "        text-align: right;\n",
       "    }\n",
       "</style>\n",
       "<table border=\"1\" class=\"dataframe\">\n",
       "  <thead>\n",
       "    <tr style=\"text-align: right;\">\n",
       "      <th></th>\n",
       "      <th>Kelly Leverage</th>\n",
       "      <th>Half-Kelly Leverage</th>\n",
       "    </tr>\n",
       "  </thead>\n",
       "  <tbody>\n",
       "    <tr>\n",
       "      <th>Growth Rate</th>\n",
       "      <td>0.263775</td>\n",
       "      <td>0.199656</td>\n",
       "    </tr>\n",
       "    <tr>\n",
       "      <th>Sharpe Ratio</th>\n",
       "      <td>0.442146</td>\n",
       "      <td>0.110537</td>\n",
       "    </tr>\n",
       "  </tbody>\n",
       "</table>\n",
       "</div>"
      ],
      "text/plain": [
       "              Kelly Leverage  Half-Kelly Leverage\n",
       "Growth Rate         0.263775             0.199656\n",
       "Sharpe Ratio        0.442146             0.110537"
      ]
     },
     "execution_count": 10,
     "metadata": {},
     "output_type": "execute_result"
    }
   ],
   "source": [
    "pd.DataFrame({'Kelly Leverage': [output[group]['growth'], output[group]['sharpe']],\n",
    "              'Half-Kelly Leverage': [output[group]['growth2'], output[group]['sharpe2']]},\n",
    "             index=['Growth Rate', 'Sharpe Ratio'])"
   ]
  },
  {
   "cell_type": "markdown",
   "metadata": {},
   "source": [
    "### Vanguard International Bonds ETFs"
   ]
  },
  {
   "cell_type": "markdown",
   "metadata": {},
   "source": [
    "The Kelly leverage for International Bonds ETFs are"
   ]
  },
  {
   "cell_type": "code",
   "execution_count": 11,
   "metadata": {},
   "outputs": [
    {
     "data": {
      "text/html": [
       "<div>\n",
       "<style scoped>\n",
       "    .dataframe tbody tr th:only-of-type {\n",
       "        vertical-align: middle;\n",
       "    }\n",
       "\n",
       "    .dataframe tbody tr th {\n",
       "        vertical-align: top;\n",
       "    }\n",
       "\n",
       "    .dataframe thead th {\n",
       "        text-align: right;\n",
       "    }\n",
       "</style>\n",
       "<table border=\"1\" class=\"dataframe\">\n",
       "  <thead>\n",
       "    <tr style=\"text-align: right;\">\n",
       "      <th></th>\n",
       "      <th>Kelly Leverage</th>\n",
       "      <th>Half-Kelly Leverage</th>\n",
       "    </tr>\n",
       "  </thead>\n",
       "  <tbody>\n",
       "    <tr>\n",
       "      <th>BNDX</th>\n",
       "      <td>4.0</td>\n",
       "      <td>2.0</td>\n",
       "    </tr>\n",
       "    <tr>\n",
       "      <th>VWOB</th>\n",
       "      <td>4.0</td>\n",
       "      <td>2.0</td>\n",
       "    </tr>\n",
       "  </tbody>\n",
       "</table>\n",
       "</div>"
      ],
      "text/plain": [
       "      Kelly Leverage  Half-Kelly Leverage\n",
       "BNDX             4.0                  2.0\n",
       "VWOB             4.0                  2.0"
      ]
     },
     "execution_count": 11,
     "metadata": {},
     "output_type": "execute_result"
    }
   ],
   "source": [
    "group = 'intl bonds'\n",
    "\n",
    "pd.DataFrame({'Kelly Leverage': output[group]['kelly'],\n",
    "              'Half-Kelly Leverage': output[group]['kelly2']},\n",
    "             index=output[group]['tickers'])"
   ]
  },
  {
   "cell_type": "markdown",
   "metadata": {},
   "source": [
    "The growth rate and Sharpe ratio are"
   ]
  },
  {
   "cell_type": "code",
   "execution_count": 12,
   "metadata": {},
   "outputs": [
    {
     "data": {
      "text/html": [
       "<div>\n",
       "<style scoped>\n",
       "    .dataframe tbody tr th:only-of-type {\n",
       "        vertical-align: middle;\n",
       "    }\n",
       "\n",
       "    .dataframe tbody tr th {\n",
       "        vertical-align: top;\n",
       "    }\n",
       "\n",
       "    .dataframe thead th {\n",
       "        text-align: right;\n",
       "    }\n",
       "</style>\n",
       "<table border=\"1\" class=\"dataframe\">\n",
       "  <thead>\n",
       "    <tr style=\"text-align: right;\">\n",
       "      <th></th>\n",
       "      <th>Kelly Leverage</th>\n",
       "      <th>Half-Kelly Leverage</th>\n",
       "    </tr>\n",
       "  </thead>\n",
       "  <tbody>\n",
       "    <tr>\n",
       "      <th>Growth Rate</th>\n",
       "      <td>0.121379</td>\n",
       "      <td>0.080773</td>\n",
       "    </tr>\n",
       "    <tr>\n",
       "      <th>Sharpe Ratio</th>\n",
       "      <td>0.060666</td>\n",
       "      <td>0.015167</td>\n",
       "    </tr>\n",
       "  </tbody>\n",
       "</table>\n",
       "</div>"
      ],
      "text/plain": [
       "              Kelly Leverage  Half-Kelly Leverage\n",
       "Growth Rate         0.121379             0.080773\n",
       "Sharpe Ratio        0.060666             0.015167"
      ]
     },
     "execution_count": 12,
     "metadata": {},
     "output_type": "execute_result"
    }
   ],
   "source": [
    "pd.DataFrame({'Kelly Leverage': [output[group]['growth'], output[group]['sharpe']],\n",
    "              'Half-Kelly Leverage': [output[group]['growth2'], output[group]['sharpe2']]},\n",
    "             index=['Growth Rate', 'Sharpe Ratio'])"
   ]
  },
  {
   "cell_type": "markdown",
   "metadata": {},
   "source": [
    "### Vanguard International Stocks ETFs"
   ]
  },
  {
   "cell_type": "markdown",
   "metadata": {},
   "source": [
    "The Kelly leverage for International Stocks ETFs are"
   ]
  },
  {
   "cell_type": "code",
   "execution_count": 13,
   "metadata": {},
   "outputs": [
    {
     "data": {
      "text/html": [
       "<div>\n",
       "<style scoped>\n",
       "    .dataframe tbody tr th:only-of-type {\n",
       "        vertical-align: middle;\n",
       "    }\n",
       "\n",
       "    .dataframe tbody tr th {\n",
       "        vertical-align: top;\n",
       "    }\n",
       "\n",
       "    .dataframe thead th {\n",
       "        text-align: right;\n",
       "    }\n",
       "</style>\n",
       "<table border=\"1\" class=\"dataframe\">\n",
       "  <thead>\n",
       "    <tr style=\"text-align: right;\">\n",
       "      <th></th>\n",
       "      <th>Kelly Leverage</th>\n",
       "      <th>Half-Kelly Leverage</th>\n",
       "    </tr>\n",
       "  </thead>\n",
       "  <tbody>\n",
       "    <tr>\n",
       "      <th>VT</th>\n",
       "      <td>4.000000</td>\n",
       "      <td>2.000000</td>\n",
       "    </tr>\n",
       "    <tr>\n",
       "      <th>VEU</th>\n",
       "      <td>-4.000000</td>\n",
       "      <td>-2.000000</td>\n",
       "    </tr>\n",
       "    <tr>\n",
       "      <th>VSS</th>\n",
       "      <td>-4.000000</td>\n",
       "      <td>-2.000000</td>\n",
       "    </tr>\n",
       "    <tr>\n",
       "      <th>VEA</th>\n",
       "      <td>-2.112510</td>\n",
       "      <td>-1.056255</td>\n",
       "    </tr>\n",
       "    <tr>\n",
       "      <th>VGK</th>\n",
       "      <td>-0.206509</td>\n",
       "      <td>-0.103254</td>\n",
       "    </tr>\n",
       "    <tr>\n",
       "      <th>VPL</th>\n",
       "      <td>1.699139</td>\n",
       "      <td>0.849570</td>\n",
       "    </tr>\n",
       "    <tr>\n",
       "      <th>VNQI</th>\n",
       "      <td>4.000000</td>\n",
       "      <td>2.000000</td>\n",
       "    </tr>\n",
       "    <tr>\n",
       "      <th>VXUS</th>\n",
       "      <td>-4.000000</td>\n",
       "      <td>-2.000000</td>\n",
       "    </tr>\n",
       "    <tr>\n",
       "      <th>VWO</th>\n",
       "      <td>-0.971531</td>\n",
       "      <td>-0.485765</td>\n",
       "    </tr>\n",
       "  </tbody>\n",
       "</table>\n",
       "</div>"
      ],
      "text/plain": [
       "      Kelly Leverage  Half-Kelly Leverage\n",
       "VT          4.000000             2.000000\n",
       "VEU        -4.000000            -2.000000\n",
       "VSS        -4.000000            -2.000000\n",
       "VEA        -2.112510            -1.056255\n",
       "VGK        -0.206509            -0.103254\n",
       "VPL         1.699139             0.849570\n",
       "VNQI        4.000000             2.000000\n",
       "VXUS       -4.000000            -2.000000\n",
       "VWO        -0.971531            -0.485765"
      ]
     },
     "execution_count": 13,
     "metadata": {},
     "output_type": "execute_result"
    }
   ],
   "source": [
    "group = 'intl stocks'\n",
    "\n",
    "pd.DataFrame({'Kelly Leverage': output[group]['kelly'],\n",
    "              'Half-Kelly Leverage': output[group]['kelly2']},\n",
    "             index=output[group]['tickers'])"
   ]
  },
  {
   "cell_type": "markdown",
   "metadata": {},
   "source": [
    "The growth rate and Sharpe ratio are"
   ]
  },
  {
   "cell_type": "code",
   "execution_count": 14,
   "metadata": {},
   "outputs": [
    {
     "data": {
      "text/html": [
       "<div>\n",
       "<style scoped>\n",
       "    .dataframe tbody tr th:only-of-type {\n",
       "        vertical-align: middle;\n",
       "    }\n",
       "\n",
       "    .dataframe tbody tr th {\n",
       "        vertical-align: top;\n",
       "    }\n",
       "\n",
       "    .dataframe thead th {\n",
       "        text-align: right;\n",
       "    }\n",
       "</style>\n",
       "<table border=\"1\" class=\"dataframe\">\n",
       "  <thead>\n",
       "    <tr style=\"text-align: right;\">\n",
       "      <th></th>\n",
       "      <th>Kelly Leverage</th>\n",
       "      <th>Half-Kelly Leverage</th>\n",
       "    </tr>\n",
       "  </thead>\n",
       "  <tbody>\n",
       "    <tr>\n",
       "      <th>Growth Rate</th>\n",
       "      <td>-0.217473</td>\n",
       "      <td>0.034939</td>\n",
       "    </tr>\n",
       "    <tr>\n",
       "      <th>Sharpe Ratio</th>\n",
       "      <td>1.049404</td>\n",
       "      <td>0.262351</td>\n",
       "    </tr>\n",
       "  </tbody>\n",
       "</table>\n",
       "</div>"
      ],
      "text/plain": [
       "              Kelly Leverage  Half-Kelly Leverage\n",
       "Growth Rate        -0.217473             0.034939\n",
       "Sharpe Ratio        1.049404             0.262351"
      ]
     },
     "execution_count": 14,
     "metadata": {},
     "output_type": "execute_result"
    }
   ],
   "source": [
    "pd.DataFrame({'Kelly Leverage': [output[group]['growth'], output[group]['sharpe']],\n",
    "              'Half-Kelly Leverage': [output[group]['growth2'], output[group]['sharpe2']]},\n",
    "             index=['Growth Rate', 'Sharpe Ratio'])"
   ]
  },
  {
   "cell_type": "markdown",
   "metadata": {},
   "source": [
    "### Vanguard Sectors ETFs"
   ]
  },
  {
   "cell_type": "markdown",
   "metadata": {},
   "source": [
    "The Kelly leverage for sectors ETFs are"
   ]
  },
  {
   "cell_type": "code",
   "execution_count": 15,
   "metadata": {},
   "outputs": [
    {
     "data": {
      "text/html": [
       "<div>\n",
       "<style scoped>\n",
       "    .dataframe tbody tr th:only-of-type {\n",
       "        vertical-align: middle;\n",
       "    }\n",
       "\n",
       "    .dataframe tbody tr th {\n",
       "        vertical-align: top;\n",
       "    }\n",
       "\n",
       "    .dataframe thead th {\n",
       "        text-align: right;\n",
       "    }\n",
       "</style>\n",
       "<table border=\"1\" class=\"dataframe\">\n",
       "  <thead>\n",
       "    <tr style=\"text-align: right;\">\n",
       "      <th></th>\n",
       "      <th>Kelly Leverage</th>\n",
       "      <th>Half-Kelly Leverage</th>\n",
       "    </tr>\n",
       "  </thead>\n",
       "  <tbody>\n",
       "    <tr>\n",
       "      <th>VOX</th>\n",
       "      <td>-4.000000</td>\n",
       "      <td>-2.000000</td>\n",
       "    </tr>\n",
       "    <tr>\n",
       "      <th>VCR</th>\n",
       "      <td>2.802745</td>\n",
       "      <td>1.401372</td>\n",
       "    </tr>\n",
       "    <tr>\n",
       "      <th>VDC</th>\n",
       "      <td>-1.582406</td>\n",
       "      <td>-0.791203</td>\n",
       "    </tr>\n",
       "    <tr>\n",
       "      <th>VDE</th>\n",
       "      <td>-4.000000</td>\n",
       "      <td>-2.000000</td>\n",
       "    </tr>\n",
       "    <tr>\n",
       "      <th>VFH</th>\n",
       "      <td>4.000000</td>\n",
       "      <td>2.000000</td>\n",
       "    </tr>\n",
       "    <tr>\n",
       "      <th>VHT</th>\n",
       "      <td>-0.114157</td>\n",
       "      <td>-0.057078</td>\n",
       "    </tr>\n",
       "    <tr>\n",
       "      <th>VIS</th>\n",
       "      <td>-2.298666</td>\n",
       "      <td>-1.149333</td>\n",
       "    </tr>\n",
       "    <tr>\n",
       "      <th>VGT</th>\n",
       "      <td>4.000000</td>\n",
       "      <td>2.000000</td>\n",
       "    </tr>\n",
       "    <tr>\n",
       "      <th>VAW</th>\n",
       "      <td>-1.106886</td>\n",
       "      <td>-0.553443</td>\n",
       "    </tr>\n",
       "    <tr>\n",
       "      <th>VNQ</th>\n",
       "      <td>-2.011771</td>\n",
       "      <td>-1.005885</td>\n",
       "    </tr>\n",
       "    <tr>\n",
       "      <th>VPU</th>\n",
       "      <td>4.000000</td>\n",
       "      <td>2.000000</td>\n",
       "    </tr>\n",
       "  </tbody>\n",
       "</table>\n",
       "</div>"
      ],
      "text/plain": [
       "     Kelly Leverage  Half-Kelly Leverage\n",
       "VOX       -4.000000            -2.000000\n",
       "VCR        2.802745             1.401372\n",
       "VDC       -1.582406            -0.791203\n",
       "VDE       -4.000000            -2.000000\n",
       "VFH        4.000000             2.000000\n",
       "VHT       -0.114157            -0.057078\n",
       "VIS       -2.298666            -1.149333\n",
       "VGT        4.000000             2.000000\n",
       "VAW       -1.106886            -0.553443\n",
       "VNQ       -2.011771            -1.005885\n",
       "VPU        4.000000             2.000000"
      ]
     },
     "execution_count": 15,
     "metadata": {},
     "output_type": "execute_result"
    }
   ],
   "source": [
    "group = 'sectors'\n",
    "\n",
    "pd.DataFrame({'Kelly Leverage': output[group]['kelly'],\n",
    "              'Half-Kelly Leverage': output[group]['kelly2']},\n",
    "             index=output[group]['tickers'])"
   ]
  },
  {
   "cell_type": "markdown",
   "metadata": {},
   "source": [
    "The growth rate and Sharpe ratio are"
   ]
  },
  {
   "cell_type": "code",
   "execution_count": 16,
   "metadata": {},
   "outputs": [
    {
     "data": {
      "text/html": [
       "<div>\n",
       "<style scoped>\n",
       "    .dataframe tbody tr th:only-of-type {\n",
       "        vertical-align: middle;\n",
       "    }\n",
       "\n",
       "    .dataframe tbody tr th {\n",
       "        vertical-align: top;\n",
       "    }\n",
       "\n",
       "    .dataframe thead th {\n",
       "        text-align: right;\n",
       "    }\n",
       "</style>\n",
       "<table border=\"1\" class=\"dataframe\">\n",
       "  <thead>\n",
       "    <tr style=\"text-align: right;\">\n",
       "      <th></th>\n",
       "      <th>Kelly Leverage</th>\n",
       "      <th>Half-Kelly Leverage</th>\n",
       "    </tr>\n",
       "  </thead>\n",
       "  <tbody>\n",
       "    <tr>\n",
       "      <th>Growth Rate</th>\n",
       "      <td>0.907456</td>\n",
       "      <td>0.602755</td>\n",
       "    </tr>\n",
       "    <tr>\n",
       "      <th>Sharpe Ratio</th>\n",
       "      <td>1.092213</td>\n",
       "      <td>0.273053</td>\n",
       "    </tr>\n",
       "  </tbody>\n",
       "</table>\n",
       "</div>"
      ],
      "text/plain": [
       "              Kelly Leverage  Half-Kelly Leverage\n",
       "Growth Rate         0.907456             0.602755\n",
       "Sharpe Ratio        1.092213             0.273053"
      ]
     },
     "execution_count": 16,
     "metadata": {},
     "output_type": "execute_result"
    }
   ],
   "source": [
    "pd.DataFrame({'Kelly Leverage': [output[group]['growth'], output[group]['sharpe']],\n",
    "              'Half-Kelly Leverage': [output[group]['growth2'], output[group]['sharpe2']]},\n",
    "             index=['Growth Rate', 'Sharpe Ratio'])"
   ]
  },
  {
   "cell_type": "markdown",
   "metadata": {},
   "source": [
    "## Conclusion\n",
    "..."
   ]
  },
  {
   "cell_type": "code",
   "execution_count": null,
   "metadata": {},
   "outputs": [],
   "source": []
  }
 ],
 "metadata": {
  "kernelspec": {
   "display_name": "Python 3",
   "language": "python",
   "name": "python3"
  },
  "language_info": {
   "codemirror_mode": {
    "name": "ipython",
    "version": 3
   },
   "file_extension": ".py",
   "mimetype": "text/x-python",
   "name": "python",
   "nbconvert_exporter": "python",
   "pygments_lexer": "ipython3",
   "version": "3.7.1"
  }
 },
 "nbformat": 4,
 "nbformat_minor": 2
}
